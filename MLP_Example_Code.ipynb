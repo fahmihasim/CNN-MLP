{
  "nbformat": 4,
  "nbformat_minor": 0,
  "metadata": {
    "colab": {
      "provenance": [],
      "toc_visible": true
    },
    "kernelspec": {
      "name": "python3",
      "display_name": "Python 3"
    },
    "language_info": {
      "name": "python"
    }
  },
  "cells": [
    {
      "cell_type": "code",
      "execution_count": 1,
      "metadata": {
        "id": "2MGCIMYe_RD4"
      },
      "outputs": [],
      "source": [
        "import numpy as np\n",
        "import tensorflow as tf\n",
        "from tensorflow import keras"
      ]
    },
    {
      "cell_type": "code",
      "source": [
        "# Load MNIST dataset\n",
        "(x_train, y_train), (x_test, y_test) = keras.datasets.mnist.load_data()"
      ],
      "metadata": {
        "colab": {
          "base_uri": "https://localhost:8080/"
        },
        "id": "yMFIkDFD_dru",
        "outputId": "f6dff5e3-98d8-4a37-df0c-b8d5fcf428c5"
      },
      "execution_count": 2,
      "outputs": [
        {
          "output_type": "stream",
          "name": "stdout",
          "text": [
            "Downloading data from https://storage.googleapis.com/tensorflow/tf-keras-datasets/mnist.npz\n",
            "11490434/11490434 [==============================] - 1s 0us/step\n"
          ]
        }
      ]
    },
    {
      "cell_type": "code",
      "source": [
        "# Reshape input data to a 1D vector\n",
        "x_train = x_train.reshape(60000, 784)\n",
        "x_test = x_test.reshape(10000, 784)"
      ],
      "metadata": {
        "id": "ULtZd11W_kRg"
      },
      "execution_count": 3,
      "outputs": []
    },
    {
      "cell_type": "code",
      "source": [
        "# Normalize input data\n",
        "x_train = x_train.astype('float32') / 255\n",
        "x_test = x_test.astype('float32') / 255"
      ],
      "metadata": {
        "id": "4e2ZwGF6_nGG"
      },
      "execution_count": 4,
      "outputs": []
    },
    {
      "cell_type": "code",
      "source": [
        "# Convert class vectors to binary class matrices\n",
        "y_train = keras.utils.to_categorical(y_train, 10)\n",
        "y_test = keras.utils.to_categorical(y_test, 10)"
      ],
      "metadata": {
        "id": "sNXjdMEY_pdP"
      },
      "execution_count": 5,
      "outputs": []
    },
    {
      "cell_type": "code",
      "source": [
        "# Define MLP model\n",
        "model = keras.Sequential([\n",
        "    keras.layers.Dense(512, input_shape=(784,), activation='relu'),\n",
        "    keras.layers.Dropout(0.2),\n",
        "    keras.layers.Dense(256, activation='relu'),\n",
        "    keras.layers.Dropout(0.2),\n",
        "    keras.layers.Dense(10, activation='softmax')\n",
        "])"
      ],
      "metadata": {
        "id": "zidjgYkR_qle"
      },
      "execution_count": 6,
      "outputs": []
    },
    {
      "cell_type": "code",
      "source": [
        "# Compile model\n",
        "model.compile(optimizer='adam', loss='categorical_crossentropy', metrics=['accuracy'])"
      ],
      "metadata": {
        "id": "PPSmKRMW_ufE"
      },
      "execution_count": 7,
      "outputs": []
    },
    {
      "cell_type": "code",
      "source": [
        "# Train model\n",
        "model.fit(x_train, y_train, epochs=10, batch_size=128, validation_data=(x_test, y_test))"
      ],
      "metadata": {
        "colab": {
          "base_uri": "https://localhost:8080/"
        },
        "id": "OMNJh8g__xDU",
        "outputId": "b3fd2359-29b8-4a65-bf26-e00e6ffa7b2d"
      },
      "execution_count": 8,
      "outputs": [
        {
          "output_type": "stream",
          "name": "stdout",
          "text": [
            "Epoch 1/10\n",
            "469/469 [==============================] - 10s 19ms/step - loss: 0.2627 - accuracy: 0.9212 - val_loss: 0.1165 - val_accuracy: 0.9633\n",
            "Epoch 2/10\n",
            "469/469 [==============================] - 8s 18ms/step - loss: 0.1059 - accuracy: 0.9675 - val_loss: 0.0811 - val_accuracy: 0.9751\n",
            "Epoch 3/10\n",
            "469/469 [==============================] - 8s 18ms/step - loss: 0.0746 - accuracy: 0.9769 - val_loss: 0.0720 - val_accuracy: 0.9783\n",
            "Epoch 4/10\n",
            "469/469 [==============================] - 9s 19ms/step - loss: 0.0589 - accuracy: 0.9811 - val_loss: 0.0686 - val_accuracy: 0.9784\n",
            "Epoch 5/10\n",
            "469/469 [==============================] - 8s 18ms/step - loss: 0.0468 - accuracy: 0.9852 - val_loss: 0.0617 - val_accuracy: 0.9821\n",
            "Epoch 6/10\n",
            "469/469 [==============================] - 9s 18ms/step - loss: 0.0414 - accuracy: 0.9866 - val_loss: 0.0700 - val_accuracy: 0.9786\n",
            "Epoch 7/10\n",
            "469/469 [==============================] - 9s 20ms/step - loss: 0.0358 - accuracy: 0.9881 - val_loss: 0.0655 - val_accuracy: 0.9824\n",
            "Epoch 8/10\n",
            "469/469 [==============================] - 8s 17ms/step - loss: 0.0309 - accuracy: 0.9895 - val_loss: 0.0650 - val_accuracy: 0.9794\n",
            "Epoch 9/10\n",
            "469/469 [==============================] - 9s 18ms/step - loss: 0.0299 - accuracy: 0.9901 - val_loss: 0.0652 - val_accuracy: 0.9829\n",
            "Epoch 10/10\n",
            "469/469 [==============================] - 9s 19ms/step - loss: 0.0269 - accuracy: 0.9905 - val_loss: 0.0677 - val_accuracy: 0.9821\n"
          ]
        },
        {
          "output_type": "execute_result",
          "data": {
            "text/plain": [
              "<keras.callbacks.History at 0x7fa4ed07bfd0>"
            ]
          },
          "metadata": {},
          "execution_count": 8
        }
      ]
    },
    {
      "cell_type": "code",
      "source": [
        "# Evaluate model\n",
        "test_loss, test_acc = model.evaluate(x_test, y_test)\n",
        "print('Test accuracy:', test_acc)"
      ],
      "metadata": {
        "colab": {
          "base_uri": "https://localhost:8080/"
        },
        "id": "4O6UGl3S_zu-",
        "outputId": "66c09d30-6aca-46e9-a0db-bd6ac3676ed0"
      },
      "execution_count": 9,
      "outputs": [
        {
          "output_type": "stream",
          "name": "stdout",
          "text": [
            "313/313 [==============================] - 1s 3ms/step - loss: 0.0677 - accuracy: 0.9821\n",
            "Test accuracy: 0.9821000099182129\n"
          ]
        }
      ]
    }
  ]
}